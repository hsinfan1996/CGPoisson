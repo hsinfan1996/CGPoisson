{
 "cells": [
  {
   "cell_type": "markdown",
   "id": "6961a0ba-80ee-4a3d-8e4e-e64acd2aa9c9",
   "metadata": {},
   "source": [
    "#### Poisson Equation in 2D"
   ]
  },
  {
   "cell_type": "code",
   "execution_count": null,
   "id": "6223ce52-46ca-4a53-87bc-6d4b6f35285b",
   "metadata": {},
   "outputs": [],
   "source": [
    "import numpy as np\n",
    "import matplotlib.pyplot as plt\n",
    "from final_project_HF import Poisson2D\n",
    "import time\n",
    "import torch"
   ]
  },
  {
   "cell_type": "code",
   "execution_count": null,
   "id": "9e6980a1-d9d7-4d74-910d-a03a93c922a0",
   "metadata": {},
   "outputs": [],
   "source": [
    "def ref_func(x, y):\n",
    "    return y*(1-y)*x**3\n",
    "\n",
    "def source_term(x, y):\n",
    "    return 6*x*y*(1-y)-2*x**3"
   ]
  },
  {
   "cell_type": "code",
   "execution_count": null,
   "id": "9712feed-fbbb-4b7c-ba79-11a47c3019bf",
   "metadata": {},
   "outputs": [],
   "source": [
    "N=128\n",
    "poisson = Poisson2D(N=N)\n",
    "x = poisson.x.cpu()\n",
    "BC = np.zeros((N+2, N+2))\n",
    "BC[-1, 1:-1] = x.numpy() * (1 - x.numpy())\n",
    "\n",
    "\n",
    "source = source_term(x[:, None], x[None, :])"
   ]
  },
  {
   "cell_type": "markdown",
   "id": "c57b76cf-93a9-4807-97e0-fa7bcee2772c",
   "metadata": {},
   "source": [
    "The figure below is what analytical solution looks like under a 128-by-128 grid."
   ]
  },
  {
   "cell_type": "code",
   "execution_count": null,
   "id": "a8fe9132-c860-493c-a37c-ca26f196b8bb",
   "metadata": {},
   "outputs": [],
   "source": [
    "ref = ref_func(x[:, None], x[None, :])\n",
    "fig = plt.figure(figsize=(6, 6))\n",
    "fig.gca().pcolormesh(np.linspace(0, 1, N+1), np.linspace(0, 1, N+1), ref.T)\n",
    "fig.gca().set_xlabel(\"x\")\n",
    "fig.gca().set_ylabel(\"y\")\n",
    "plt.show()"
   ]
  },
  {
   "cell_type": "code",
   "execution_count": null,
   "id": "ec01f8bf-8223-4b20-8c71-4f4599bb4339",
   "metadata": {},
   "outputs": [],
   "source": [
    "schemes = [\"CG\", \"Gauss-Seidel\", \"SOR\"]\n",
    "resolution = np.array([2,4,8,16])\n",
    "error_all = []\n",
    "iters_all = []\n",
    "wall_time_all = []\n",
    "\n",
    "for scheme in schemes:\n",
    "    error = []\n",
    "    iters = []\n",
    "    wall_time = []\n",
    "\n",
    "    for N in resolution:\n",
    "        poisson = Poisson2D(N=N, device='cuda')\n",
    "\n",
    "        x = poisson.x.cpu().numpy()\n",
    "        ref = ref_func(x[:, None], x[None, :])\n",
    "        BC = np.zeros((N+2, N+2))\n",
    "        BC[-1, 1:-1] = x * (1 - x)\n",
    "        source = source_term(x[:, None], x[None, :])\n",
    "\n",
    "        if scheme == \"SOR\":\n",
    "            t1 = time.time()\n",
    "            poisson.run(scheme=scheme, steps=None, BC=torch.tensor(BC, device='cuda'), source=torch.tensor(source, device='cuda'), w=1.6905, terminate=1e-12)\n",
    "            t2 = time.time()\n",
    "        else:\n",
    "            t1 = time.time()\n",
    "            poisson.run(scheme=scheme, steps=None, BC=torch.tensor(BC, device='cuda'), source=torch.tensor(source, device='cuda'), terminate=1e-12)\n",
    "            t2 = time.time()\n",
    "\n",
    "        error.append(np.abs(poisson.u.cpu().numpy()[1:-1, 1:-1] - ref).sum() / N**2)\n",
    "        print(error)\n",
    "        iters.append(poisson.steps)\n",
    "        wall_time.append(t2 - t1)\n",
    "\n",
    "    error_all.append(error)\n",
    "    iters_all.append(iters)\n",
    "    wall_time_all.append(wall_time)"
   ]
  },
  {
   "cell_type": "markdown",
   "id": "6e390f91-e895-4ee9-9c50-dc2ffd79b531",
   "metadata": {},
   "source": [
    "a. and c. Compare the scaling between spatial resolutions and errors, iterations required and wall times required.\n",
    "\n",
    "The scaling between resolutions and errors is expected to be (inversely) second-order. However, as shown in the first figure below, I get a scaling of (inversely) first order.\n",
    "\n",
    "As shown in the second figure below, the scaling between resolutions and iterations required for convergence is close to second order.\n",
    "\n",
    "As shown in the third figure below, the scaling between resolutions and wall-time required for convergence is close to fourth order."
   ]
  },
  {
   "cell_type": "code",
   "execution_count": null,
   "id": "eff3dd01-484f-416d-9b75-075136114566",
   "metadata": {},
   "outputs": [],
   "source": [
    "fig1, axes1 = plt.subplots(figsize=(6, 6), dpi=150)\n",
    "fig2, axes2 = plt.subplots(figsize=(6, 6), dpi=150)\n",
    "fig3, axes3 = plt.subplots(figsize=(6, 6), dpi=150)\n",
    "\n",
    "for i, err in enumerate(error_all):\n",
    "    fig1.gca().scatter(resolution, err, label=schemes[i])\n",
    "    fig1.gca().set_yscale(\"log\", base=10)\n",
    "    fig1.gca().set_xscale(\"log\", base=2)\n",
    "    fig1.gca().set_xlabel(\"N - Spatial resolution\")\n",
    "    fig1.gca().set_ylabel(\"Error\")\n",
    "\n",
    "for i, iter in enumerate(iters_all):\n",
    "    fig2.gca().scatter(resolution, iter, label=schemes[i])\n",
    "    fig2.gca().set_yscale(\"log\", base=10)\n",
    "    fig2.gca().set_xscale(\"log\", base=2)\n",
    "    fig2.gca().set_xlabel(\"N - Spatial resolution\")\n",
    "    fig2.gca().set_ylabel(\"Iterations until convergence\")\n",
    "\n",
    "for i, _wall_time in enumerate(wall_time_all):\n",
    "    fig3.gca().scatter(resolution, _wall_time, label=schemes[i])\n",
    "    fig3.gca().set_yscale(\"log\", base=10)\n",
    "    fig3.gca().set_xscale(\"log\", base=2)\n",
    "    fig3.gca().set_xlabel(\"N - Spatial resolution\")\n",
    "    fig3.gca().set_ylabel(\"Wall time required for convergence\")\n",
    "\n",
    "\n",
    "res = np.linspace(resolution[0], resolution[-1], 1000)\n",
    "fig1.gca().plot(res, res**(-2), label=r\"$f(x) \\propto x^{-2}$\", c='C3')\n",
    "fig1.gca().plot(res, 5e-2*res**(-1), label=r\"$f(x) \\propto x^{-1}$\", c='C4')\n",
    "fig2.gca().plot(res, 3*res**(1.9), label=r\"$f(x) \\propto x^{1.9}$\", c='C3')\n",
    "fig2.gca().plot(res, 0.48*res**(2), label=r\"$f(x) \\propto x^{2}$\", c='C4')\n",
    "fig3.gca().plot(res, 1e-6*res**(4), label=r\"$f(x) \\propto x^{4}$\", c='C3')\n",
    "fig1.gca().legend()\n",
    "fig2.gca().legend()\n",
    "fig3.gca().legend()\n",
    "\n",
    "plt.show()"
   ]
  },
  {
   "cell_type": "code",
   "execution_count": null,
   "id": "4d21af8c-0630-4dc1-9f42-c56817d91c7e",
   "metadata": {},
   "outputs": [],
   "source": []
  }
 ],
 "metadata": {
  "kernelspec": {
   "display_name": "Python 3 (ipykernel)",
   "language": "python",
   "name": "python3"
  },
  "language_info": {
   "codemirror_mode": {
    "name": "ipython",
    "version": 3
   },
   "file_extension": ".py",
   "mimetype": "text/x-python",
   "name": "python",
   "nbconvert_exporter": "python",
   "pygments_lexer": "ipython3",
   "version": "3.11.9"
  }
 },
 "nbformat": 4,
 "nbformat_minor": 5
}
